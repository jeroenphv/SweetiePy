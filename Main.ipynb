{
 "cells": [
  {
   "cell_type": "markdown",
   "metadata": {},
   "source": [
    "<img src=\"misc/Logo.png\"/>"
   ]
  },
  {
   "cell_type": "markdown",
   "metadata": {},
   "source": [
    "# Step 1: Import SweetiePy\n",
    "\n",
    "First, let's import all Python packages necessary for analyzing these data."
   ]
  },
  {
   "cell_type": "code",
   "execution_count": null,
   "metadata": {},
   "outputs": [],
   "source": [
    "import SweetiePy as sp"
   ]
  },
  {
   "cell_type": "markdown",
   "metadata": {},
   "source": [
    "# Step 2: Load dataset\n",
    "\n",
    "Now let's import a dataset. This script is built in such a way that it reads two separate excel files; one excel file containing the timestamps (in seconds) of all licks for the water bottle, the other excel file the timestamps (in seconds) for all licks for the sucrose bottle.\n",
    "\n",
    "You can either import your own excel files or download an example <a href=\"data/water.xlsx\">water</a> or <a href=\"data/sucrose.xlsx\">sucrose</a> file (and provide the source url in the next cell)."
   ]
  },
  {
   "cell_type": "code",
   "execution_count": null,
   "metadata": {},
   "outputs": [],
   "source": [
    "[vecWater, vecSucrose] = sp.LoadData(water = \"/Users/jeroenverharen/Desktop/water.xlsx\", sucrose = \"/Users/jeroenverharen/Desktop/sucrose.xlsx\")"
   ]
  },
  {
   "cell_type": "markdown",
   "metadata": {},
   "source": [
    "We now have two vectors, <code>vecWater</code> and <code>vecSucrose</code>, containing the timestamps of licks for each of the two bottles."
   ]
  },
  {
   "cell_type": "markdown",
   "metadata": {},
   "source": [
    "# Step 3: Perform a micro-structure analysis of licking behavior\n",
    "\n",
    "We're now going to process the two licking vectors, <code>vecWater</code> and <code>vecSucrose</code>, into different choices using a micro-structure analysis of licking behavior. Choices are separated by a pause in licking defined by <code>time_cutoff</code> (default is 5s)."
   ]
  },
  {
   "cell_type": "code",
   "execution_count": null,
   "metadata": {},
   "outputs": [],
   "source": [
    "matChoices = sp.PreProcess(vecWater, vecSucrose, time_cutoff = 5)"
   ]
  },
  {
   "cell_type": "markdown",
   "metadata": {},
   "source": [
    "This <code>PreProcess</code> function returns <code>matChoices</code>, a matrix containing information about the choices the animal has made for water and for sucrose (for each choice the timestamp of the first lick, timestamp of the last lick, the number of licks within that choice, and whether it's for water or sucrose)."
   ]
  },
  {
   "cell_type": "markdown",
   "metadata": {},
   "source": [
    "# Step 4: Plotting data (optional)\n",
    "\n",
    "Let's visualize the micro-structure analysis of licking behavior, by plotting the licks, choices and sucrose preference over time."
   ]
  },
  {
   "cell_type": "code",
   "execution_count": null,
   "metadata": {},
   "outputs": [],
   "source": [
    "sp.CreateFigure(vecWater, vecSucrose, matChoices)"
   ]
  },
  {
   "cell_type": "markdown",
   "metadata": {},
   "source": [
    "# Step 5: Model fitting\n",
    "\n",
    "Now, the matrices containing the choices for water and choices for sucrose, <code>choicesWater</code> and <code>choicesSucrose</code> are fed into the model fitting algorithm. Set <code>priors</code> to <code>True</code> to regularize the parameter values."
   ]
  },
  {
   "cell_type": "code",
   "execution_count": null,
   "metadata": {},
   "outputs": [],
   "source": [
    "sp.FitModel(matChoices, priors = True)"
   ]
  }
 ],
 "metadata": {
  "kernelspec": {
   "display_name": "Python 3",
   "language": "python",
   "name": "python3"
  },
  "language_info": {
   "codemirror_mode": {
    "name": "ipython",
    "version": 3
   },
   "file_extension": ".py",
   "mimetype": "text/x-python",
   "name": "python",
   "nbconvert_exporter": "python",
   "pygments_lexer": "ipython3",
   "version": "3.7.4"
  }
 },
 "nbformat": 4,
 "nbformat_minor": 4
}
